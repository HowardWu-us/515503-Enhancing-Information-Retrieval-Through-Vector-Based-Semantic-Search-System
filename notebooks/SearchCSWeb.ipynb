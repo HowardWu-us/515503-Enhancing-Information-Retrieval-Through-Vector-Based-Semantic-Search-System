{
 "cells": [
  {
   "cell_type": "code",
   "execution_count": 1,
   "metadata": {},
   "outputs": [],
   "source": [
    "import requests\n",
    "from bs4 import BeautifulSoup\n",
    "from tqdm import tqdm"
   ]
  },
  {
   "cell_type": "code",
   "execution_count": 2,
   "metadata": {},
   "outputs": [],
   "source": [
    "class Article:\n",
    "    article_url: str\n",
    "    original_title: str\n",
    "    translated_title: str\n",
    "    \n",
    "    def __init__(self, url: str, title: str) -> None:\n",
    "        self.article_url = url\n",
    "        self.original_title = title\n",
    "\n",
    "class ArticleCollection:\n",
    "    articles: list[Article]\n",
    "\n",
    "    def __init__(self):\n",
    "        self.articles = []\n",
    "\n",
    "    def add_article(self, article: Article):\n",
    "        self.articles.append(article)\n",
    "\n",
    "    def info(self,):\n",
    "        print(f\"There are {len(self.articles)} titles.\")\n",
    "        \n",
    "    def display_titles(self):\n",
    "        for article in self.articles:\n",
    "            print(f\"Original Title: {article.original_title}\")\n",
    "            print(f\"URL: {article.article_url}\")\n",
    "            print(\"-\" * 15, '\\n')"
   ]
  },
  {
   "cell_type": "code",
   "execution_count": 3,
   "metadata": {},
   "outputs": [],
   "source": [
    "class ArticleCollectionFromUrl(ArticleCollection):\n",
    "    urls: list[str] = []\n",
    "    def __init__(self, urls=[]):\n",
    "        self.urls = urls\n",
    "        super().__init__()\n",
    "\n",
    "    def fetch_articles(self,):\n",
    "        for url in tqdm(self.urls):\n",
    "            response = requests.get(url)\n",
    "            if response.status_code == 200:\n",
    "                soup = BeautifulSoup(response.text, \"html.parser\")\n",
    "                for item in soup.find_all(\"li\", class_=\"announcement-item\"):\n",
    "                    link_tag = item.find(\"h2\").find(\"a\")\n",
    "                    title = link_tag.text.strip()\n",
    "                    href = link_tag[\"href\"]\n",
    "                    self.add_article(Article(url=href, title=title))\n",
    "            else:\n",
    "                print(f\"無法訪問網站，狀態碼：{response.status_code}\")\n",
    "        return len(self.articles)"
   ]
  },
  {
   "cell_type": "code",
   "execution_count": 4,
   "metadata": {},
   "outputs": [
    {
     "name": "stderr",
     "output_type": "stream",
     "text": [
      "100%|██████████| 1/1 [00:00<00:00,  4.76it/s]"
     ]
    },
    {
     "name": "stdout",
     "output_type": "stream",
     "text": [
      "There are 18 titles.\n"
     ]
    },
    {
     "name": "stderr",
     "output_type": "stream",
     "text": [
      "\n"
     ]
    }
   ],
   "source": [
    "PAGES = 1\n",
    "Articles = ArticleCollectionFromUrl()\n",
    "Articles.urls = [f\"https://www.cs.nycu.edu.tw/announcements?page={i}\" for i in range(1, PAGES+1)]\n",
    "\n",
    "Articles.fetch_articles()\n",
    "Articles.info()"
   ]
  },
  {
   "cell_type": "code",
   "execution_count": 5,
   "metadata": {},
   "outputs": [
    {
     "name": "stdout",
     "output_type": "stream",
     "text": [
      "Translate articles to English\n"
     ]
    },
    {
     "name": "stderr",
     "output_type": "stream",
     "text": [
      "100%|██████████| 18/18 [00:02<00:00,  8.30it/s]\n"
     ]
    }
   ],
   "source": [
    "from googletrans import Translator\n",
    "translator = Translator()\n",
    "# tn = translator.translate(\"【學士班】113學年度資工系學士班「畢業學分預審」作業公告(請於10/11前繳交)\", dest=\"en\").text\n",
    "# print(tn)\n",
    "print(\"Translate articles to English\")\n",
    "for i in tqdm(Articles.articles):\n",
    "    i.translated_title = translator.translate(i.original_title, dest=\"en\").text\n",
    "    # i.translated_title = i.original_title"
   ]
  },
  {
   "cell_type": "code",
   "execution_count": 6,
   "metadata": {},
   "outputs": [
    {
     "name": "stderr",
     "output_type": "stream",
     "text": [
      "/Users/howard/Documents/Projects/Linear-Algebra-Final-Project/.tevenv/lib/python3.9/site-packages/tqdm/auto.py:21: TqdmWarning: IProgress not found. Please update jupyter and ipywidgets. See https://ipywidgets.readthedocs.io/en/stable/user_install.html\n",
      "  from .autonotebook import tqdm as notebook_tqdm\n"
     ]
    },
    {
     "name": "stdout",
     "output_type": "stream",
     "text": [
      "loading MODEL...\n"
     ]
    },
    {
     "name": "stderr",
     "output_type": "stream",
     "text": [
      "Batches: 100%|██████████| 1/1 [00:00<00:00,  3.15it/s]\n"
     ]
    }
   ],
   "source": [
    "MODEL = \"all-mpnet-base-v2\"\n",
    "from nltk.tokenize import word_tokenize\n",
    "from nltk.corpus import stopwords\n",
    "import numpy as np\n",
    "from sentence_transformers import SentenceTransformer\n",
    "from sklearn.metrics.pairwise import cosine_similarity\n",
    "\n",
    "# 預處理文本\n",
    "def preprocess_text(text):\n",
    "    stop_words = set(stopwords.words('english'))\n",
    "    tokens = word_tokenize(text.lower())\n",
    "    tokens = [word for word in tokens if word.isalnum()]# 移除標點\n",
    "    tokens = [word for word in tokens if word not in stop_words]# 除掉停用詞\n",
    "    return tokens\n",
    "\n",
    "class ArticleSearch:\n",
    "    def __init__(self, articles, model_name=MODEL):\n",
    "        self.articles = articles\n",
    "        self.model = SentenceTransformer(model_name)\n",
    "        self.article_titles = [article.translated_title for article in articles]\n",
    "        self.article_vectors = self.model.encode(self.article_titles, batch_size=32, show_progress_bar=True)\n",
    "\n",
    "    # 回傳前K個相似度最高的向量\n",
    "    def Kth_max(self, arr, k=1):\n",
    "        return np.argsort(-arr, axis=0)[:k]\n",
    "\n",
    "    def cosine_similarity_custom(self, A, B):\n",
    "        dot_product = np.dot(A, B)\n",
    "        norm_A = np.linalg.norm(A)\n",
    "        norm_B = np.linalg.norm(B)\n",
    "        return dot_product / (norm_A * norm_B)\n",
    "\n",
    "    def search(self, query):\n",
    "        query_vector = self.model.encode([query])\n",
    "        similarities = np.array([self.cosine_similarity_custom(query_vector, b)[0] for b in self.article_vectors])\n",
    "        return similarities\n",
    "\n",
    "    def get_suggestions(self, query, k=5):\n",
    "        similarities = self.search(query)\n",
    "        suggestions = self.Kth_max(similarities, k)\n",
    "        return suggestions, similarities\n",
    "\n",
    "    def print_suggestions(self, query, k=5):\n",
    "        suggestions, similarities = self.get_suggestions(query, k)\n",
    "        for index in suggestions:\n",
    "            print(f\"{index}\\t{similarities[index]:.4f} : {self.article_titles[index]}\")\n",
    "            print(f\"\\t\\t {self.articles[index].article_url}\")\n",
    "        print(f\"最相似的文章是: {self.article_titles[suggestions[0]]}\")\n",
    "print(\"loading MODEL...\")\n",
    "article_search = ArticleSearch(Articles.articles)"
   ]
  },
  {
   "cell_type": "code",
   "execution_count": 19,
   "metadata": {},
   "outputs": [],
   "source": [
    "class TestCase:\n",
    "    query: str\n",
    "    target: str\n",
    "\n",
    "    def __init__(self, query, target):\n",
    "        self.query = query\n",
    "        self.target = target\n",
    "    \n",
    "    def find_target_index(self):\n",
    "        target_index: int = None\n",
    "        for idx, i in enumerate(Articles.articles):\n",
    "            if i.original_title.find(self.target) != -1:\n",
    "                # print(idx, i.original_title)\n",
    "                target_index = idx\n",
    "        return target_index\n",
    "\n",
    "    def get_score(self, article_search):\n",
    "        ARTICLE_SIZE = len(Articles.articles)\n",
    "        similarities = article_search.search(self.query)\n",
    "\n",
    "        target_idx = self.find_target_index()\n",
    "        if target_idx == None:\n",
    "            return 0\n",
    "        most_similar_idx = article_search.Kth_max(similarities, k=ARTICLE_SIZE)\n",
    "        if np.where(most_similar_idx==target_idx)[0].size != 0:\n",
    "            return 1/(np.where(most_similar_idx==target_idx)[0][0]+1)\n",
    "            return (np.where(most_similar_idx==target_idx)[0][0]+1)\n",
    "        else:\n",
    "            return 0\n",
    "\n",
    "test_cases: list[TestCase] = [\n",
    "    TestCase(\"NVIDIA 研替\", \"NVIDIA 2025 研發替代役/實習開放職缺資訊\"),\n",
    "    TestCase(\"114甄試\", \"114學年度碩士班甄試入學第2階段備取生名單及報到注意事項\"),\n",
    "    TestCase(\"甄試名單\", \"114學年度碩士班甄試入學第1階段\"),\n",
    "    TestCase(\"AI競賽\", \"AI Junior Award 2025\"),\n",
    "    TestCase(\"書卷獎\", \"【學士班】112學年度第2學期書卷獎得獎名單公告\"),\n",
    "    TestCase(\"導師名單\", \"113.10.15更新【學士班】113學年度第一學期大學部導生名單\"),\n",
    "    TestCase(\"特殊選材\", \"114學年度資訊工程學系特殊選才招生公告\"),\n",
    "    TestCase(\"畢業學分\", \"【學士班】113學年度資工系學士班「畢業學分預審」作業公告(請於10/11前繳交)\"),\n",
    "    TestCase(\"校友 頒獎\", \"資訊人院刊- 資訊系友【交大日資工系友回娘家暨傑出系友頒獎典禮】\"),\n",
    "    TestCase(\"學士畢業\", \"【學士班】資訊工程學系畢業離系/離校作業公告\"),\n",
    "]"
   ]
  },
  {
   "cell_type": "code",
   "execution_count": 8,
   "metadata": {},
   "outputs": [],
   "source": [
    "def translate_test_query():\n",
    "    print(\"Translate TestCases to English...\")\n",
    "    for i in tqdm(test_cases):\n",
    "        try:\n",
    "            i.query = translator.translate(text=i.query, dest=\"en\").text\n",
    "        except AttributeError:\n",
    "            print(f\"cannot convert \\\"{i.query}\\\" to English\")"
   ]
  },
  {
   "cell_type": "code",
   "execution_count": 9,
   "metadata": {},
   "outputs": [],
   "source": [
    "# query = test_cases[-1].query\n",
    "# target = test_cases[-1].target\n",
    "# article_search.print_suggestions(query, k=10)\n",
    "# print(query)\n",
    "# print(target)\n",
    "# print(Articles.articles[test_cases[-1].find_target_index()].translated_title)"
   ]
  },
  {
   "cell_type": "code",
   "execution_count": 10,
   "metadata": {},
   "outputs": [],
   "source": [
    "# def find_target_index(target):\n",
    "#     target_index: int\n",
    "#     for idx, i in enumerate(Articles.articles):\n",
    "#         if i.original_title.find(target) != -1:\n",
    "#             target_index = idx\n",
    "#     return target_index\n",
    "# Articles.articles[find_target_index(\"AI Junior Award 2025\")].original_title"
   ]
  },
  {
   "cell_type": "code",
   "execution_count": 11,
   "metadata": {},
   "outputs": [],
   "source": [
    "def runtest():\n",
    "    scores = sum([i.get_score(article_search=article_search) for i in test_cases])/len(test_cases)\n",
    "    print(f\"score: {scores:.3f}\")"
   ]
  },
  {
   "cell_type": "code",
   "execution_count": 12,
   "metadata": {},
   "outputs": [
    {
     "name": "stdout",
     "output_type": "stream",
     "text": [
      "Translate TestCases to English...\n"
     ]
    },
    {
     "name": "stderr",
     "output_type": "stream",
     "text": [
      "100%|██████████| 10/10 [00:01<00:00,  8.72it/s]\n"
     ]
    }
   ],
   "source": [
    "translate_test_query()"
   ]
  },
  {
   "cell_type": "code",
   "execution_count": 20,
   "metadata": {},
   "outputs": [
    {
     "data": {
      "text/plain": [
       "[0, 0, 0, 1.0, 0, 0, 0, 0, 0, 0.1111111111111111]"
      ]
     },
     "execution_count": 20,
     "metadata": {},
     "output_type": "execute_result"
    }
   ],
   "source": [
    "[i.get_score(article_search=article_search) for i in test_cases]"
   ]
  },
  {
   "cell_type": "code",
   "execution_count": 21,
   "metadata": {},
   "outputs": [
    {
     "name": "stdout",
     "output_type": "stream",
     "text": [
      "----------\n",
      "11\t0.2175 : AI Junior Award 2025 last countdown!A competition that makes you jump on AI talents, and will be subsidized by 6,000 yuan in shortlisted\n",
      "\t\t https://www.cs.nycu.edu.tw/announcements/detail/12239\n",
      "3\t0.1611 : [Bachelor Class] Announcement of the Department of Information and Engineering from the Department of Information Engineering\n",
      "\t\t https://www.cs.nycu.edu.tw/announcements/detail/10539\n",
      "5\t0.1323 : [Bachelor Class] 114 academic year special selection enrollment-the preliminary test list of the Department of Information Engineering\n",
      "\t\t https://www.cs.nycu.edu.tw/announcements/detail/12185\n",
      "9\t0.1271 : [Yilian Management Consulting Co., Ltd. is honest with one assistant to part -time employees]\n",
      "\t\t https://www.cs.nycu.edu.tw/announcements/detail/12241\n",
      "4\t0.1167 : [Bachelor Class] Special Election Talent in the 114th Academic Year-The Sequence and Notice of Re-examination of the Department of Information Engineering\n",
      "\t\t https://www.cs.nycu.edu.tw/announcements/detail/12227\n",
      "最相似的文章是: AI Junior Award 2025 last countdown!A competition that makes you jump on AI talents, and will be subsidized by 6,000 yuan in shortlisted\n",
      "----------\n",
      "9\t0.1736 : [Yilian Management Consulting Co., Ltd. is honest with one assistant to part -time employees]\n",
      "\t\t https://www.cs.nycu.edu.tw/announcements/detail/12241\n",
      "14\t0.1536 : In the Institute of Sociology of the Central Academy of Sciences 2025, the seventh \"Spring Trouble\" is open for registration (extended registration until 12/20)\n",
      "\t\t https://www.cs.nycu.edu.tw/announcements/detail/12224\n",
      "8\t0.1177 : Fubon Financial Holdings 2025 Summer Internship Scarcity Recruitment\n",
      "\t\t https://www.cs.nycu.edu.tw/announcements/detail/12243\n",
      "11\t0.1143 : AI Junior Award 2025 last countdown!A competition that makes you jump on AI talents, and will be subsidized by 6,000 yuan in shortlisted\n",
      "\t\t https://www.cs.nycu.edu.tw/announcements/detail/12239\n",
      "6\t0.0959 : [Doctoral Class] Announcement of PhD in the 2nd semester of 113 academic year (from now until December 24, 113 (Tuesday) at 10:00 am)\n",
      "\t\t https://www.cs.nycu.edu.tw/announcements/detail/12120\n",
      "最相似的文章是: [Yilian Management Consulting Co., Ltd. is honest with one assistant to part -time employees]\n"
     ]
    }
   ],
   "source": [
    "act: str = \"\"\n",
    "while True:\n",
    "    act = input(\"action: \")\n",
    "    if act == \"quit\":\n",
    "        break\n",
    "    if act == \"runtest\":\n",
    "        runtest()\n",
    "    if act == \"search\":\n",
    "        print(\"-\"*10)\n",
    "        query = input(\": \")\n",
    "        lang = translator.detect(query).lang\n",
    "        if query[:2] == \"ch\":\n",
    "            lang = \"ch\"\n",
    "            query = query[2:]\n",
    "        else:\n",
    "            lang = \"en\"\n",
    "\n",
    "        if lang == \"en\":\n",
    "            article_search.print_suggestions(query=query, k=5)\n",
    "        else:\n",
    "            print(\"translating...\")\n",
    "            translated_query = translator.translate(text=query, dest=\"en\").text\n",
    "            print(f\"->{translated_query}\")\n",
    "            article_search.print_suggestions(query=translated_query, k=5)"
   ]
  },
  {
   "cell_type": "code",
   "execution_count": 17,
   "metadata": {},
   "outputs": [
    {
     "ename": "",
     "evalue": "",
     "output_type": "error",
     "traceback": [
      "\u001b[1;31m核心無法啟動，因為 Python 環境 'Python' 已無法使用。請考慮選取其他核心或重新整理 Python 環境清單。"
     ]
    }
   ],
   "source": [
    "!jupyter nbconvert --to script SearchCSWeb.ipynb"
   ]
  },
  {
   "cell_type": "code",
   "execution_count": 18,
   "metadata": {},
   "outputs": [
    {
     "ename": "",
     "evalue": "",
     "output_type": "error",
     "traceback": [
      "\u001b[1;31m核心無法啟動，因為 Python 環境 'Python' 已無法使用。請考慮選取其他核心或重新整理 Python 環境清單。"
     ]
    }
   ],
   "source": [
    "!which python"
   ]
  }
 ],
 "metadata": {
  "kernelspec": {
   "display_name": ".tevenv",
   "language": "python",
   "name": "python3"
  },
  "language_info": {
   "codemirror_mode": {
    "name": "ipython",
    "version": 3
   },
   "file_extension": ".py",
   "mimetype": "text/x-python",
   "name": "python",
   "nbconvert_exporter": "python",
   "pygments_lexer": "ipython3",
   "version": "-1.-1.-1"
  }
 },
 "nbformat": 4,
 "nbformat_minor": 2
}
